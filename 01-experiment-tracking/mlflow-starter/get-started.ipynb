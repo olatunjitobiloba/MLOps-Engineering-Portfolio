{
 "cells": [
  {
   "cell_type": "code",
   "execution_count": 7,
   "id": "b42e82fa",
   "metadata": {},
   "outputs": [
    {
     "name": "stdout",
     "output_type": "stream",
     "text": [
      "🔧 MLflow tracking URI set to: file:./mlruns\n",
      "✅ MLflow imported successfully!\n"
     ]
    }
   ],
   "source": [
    "import mlflow\n",
    "import os\n",
    "\n",
    "# ✅ Use local file tracking (no server needed)\n",
    "mlflow.set_tracking_uri(\"file:./mlruns\")\n",
    "\n",
    "print(\"🔧 MLflow tracking URI set to: file:./mlruns\")\n",
    "print(\"✅ MLflow imported successfully!\")\n"
   ]
  },
  {
   "cell_type": "code",
   "execution_count": 8,
   "id": "9dfed2d8",
   "metadata": {},
   "outputs": [
    {
     "name": "stdout",
     "output_type": "stream",
     "text": [
      "✅ Created new experiment: Check localhost connection\n",
      "🎯 Active experiment: Check localhost connection\n"
     ]
    }
   ],
   "source": [
    "# Create or get experiment\n",
    "experiment_name = \"Check localhost connection\"\n",
    "\n",
    "try:\n",
    "    experiment_id = mlflow.create_experiment(experiment_name)\n",
    "    print(f\"✅ Created new experiment: {experiment_name}\")\n",
    "except mlflow.exceptions.MlflowException:\n",
    "    experiment_id = mlflow.get_experiment_by_name(experiment_name).experiment_id\n",
    "    print(f\"✅ Using existing experiment: {experiment_name}\")\n",
    "\n",
    "mlflow.set_experiment(experiment_name)\n",
    "print(f\"🎯 Active experiment: {experiment_name}\")\n"
   ]
  },
  {
   "cell_type": "code",
   "execution_count": 9,
   "id": "26d9c1cb",
   "metadata": {},
   "outputs": [
    {
     "name": "stdout",
     "output_type": "stream",
     "text": [
      "✅ Using existing experiment: Check localhost connection\n",
      "🎯 Active experiment: Check localhost connection\n"
     ]
    }
   ],
   "source": [
    "# Create or get experiment\n",
    "experiment_name = \"Check localhost connection\"\n",
    "\n",
    "try:\n",
    "    experiment_id = mlflow.create_experiment(experiment_name)\n",
    "    print(f\"✅ Created new experiment: {experiment_name}\")\n",
    "except mlflow.exceptions.MlflowException:\n",
    "    experiment_id = mlflow.get_experiment_by_name(experiment_name).experiment_id\n",
    "    print(f\"✅ Using existing experiment: {experiment_name}\")\n",
    "\n",
    "mlflow.set_experiment(experiment_name)\n",
    "print(f\"🎯 Active experiment: {experiment_name}\")\n"
   ]
  },
  {
   "cell_type": "code",
   "execution_count": 10,
   "id": "e238dfad",
   "metadata": {},
   "outputs": [
    {
     "name": "stdout",
     "output_type": "stream",
     "text": [
      "🎉 SUCCESS! Metrics logged successfully!\n",
      "📊 Run ID: f504fabaefc141db833852aabcf3d439\n",
      "📁 Data saved in: ./mlruns\n",
      "🚀 MLflow is working perfectly!\n"
     ]
    }
   ],
   "source": [
    "# Log metrics and parameters\n",
    "with mlflow.start_run():\n",
    "    # Log your metrics\n",
    "    mlflow.log_metric(\"test\", 1)\n",
    "    mlflow.log_metric(\"Tobi\", 2)\n",
    "    \n",
    "    # Log some parameters\n",
    "    mlflow.log_param(\"user\", \"hypem\")\n",
    "    mlflow.log_param(\"environment\", \"local\")\n",
    "    mlflow.log_param(\"project\", \"MLFlowStarter\")\n",
    "    \n",
    "    # Get run info\n",
    "    run_id = mlflow.active_run().info.run_id\n",
    "    \n",
    "    print(\"🎉 SUCCESS! Metrics logged successfully!\")\n",
    "    print(f\"📊 Run ID: {run_id}\")\n",
    "    print(f\"📁 Data saved in: ./mlruns\")\n",
    "    print(\"🚀 MLflow is working perfectly!\")\n"
   ]
  },
  {
   "cell_type": "code",
   "execution_count": 11,
   "id": "aecc0277",
   "metadata": {},
   "outputs": [],
   "source": [
    "with mlflow.start_run():\n",
    "    mlflow.log_metric(\"test1\",1)\n",
    "    mlflow.log_metric(\"Tobi1\",2)"
   ]
  },
  {
   "cell_type": "code",
   "execution_count": 12,
   "id": "753d9b34",
   "metadata": {},
   "outputs": [],
   "source": [
    "with mlflow.start_run():\n",
    "    mlflow.log_metric(\"test2\",1)\n",
    "    mlflow.log_metric(\"Tobi2\",2)"
   ]
  }
 ],
 "metadata": {
  "kernelspec": {
   "display_name": "Python 3",
   "language": "python",
   "name": "python3"
  },
  "language_info": {
   "codemirror_mode": {
    "name": "ipython",
    "version": 3
   },
   "file_extension": ".py",
   "mimetype": "text/x-python",
   "name": "python",
   "nbconvert_exporter": "python",
   "pygments_lexer": "ipython3",
   "version": "3.10.18"
  }
 },
 "nbformat": 4,
 "nbformat_minor": 5
}
